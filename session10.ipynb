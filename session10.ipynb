{
  "nbformat": 4,
  "nbformat_minor": 0,
  "metadata": {
    "colab": {
      "name": "Untitled77.ipynb",
      "provenance": [],
      "collapsed_sections": [],
      "authorship_tag": "ABX9TyOLVat9yJivi/Vp2h0r546l",
      "include_colab_link": true
    },
    "kernelspec": {
      "name": "python3",
      "display_name": "Python 3"
    },
    "language_info": {
      "name": "python"
    }
  },
  "cells": [
    {
      "cell_type": "markdown",
      "metadata": {
        "id": "view-in-github",
        "colab_type": "text"
      },
      "source": [
        "<a href=\"https://colab.research.google.com/github/gopal2812/EPaiSequence/blob/main/session10.ipynb\" target=\"_parent\"><img src=\"https://colab.research.google.com/assets/colab-badge.svg\" alt=\"Open In Colab\"/></a>"
      ]
    },
    {
      "cell_type": "markdown",
      "metadata": {
        "id": "mYGKdxr_P3Iw"
      },
      "source": [
        "# Sequence Types\n",
        "\n",
        "## Assignment\n",
        "\n",
        "1. A regular strictly convex polygon is a polygon that has the following characteristics:\n",
        "    * All interior angles are less than 180\n",
        "    * All sides have equal length\n",
        "\n",
        "2. For a regular strictly convex polygon with vertices n and circumradius r:\n",
        "    * interiorAngle = (n−2) * (180/n)\n",
        "    * edgeLength, s = 2 * R * sin(π/n) \n",
        "    * apothem, a = R * cos(π/n)\n",
        "    * area = (1/2) * n * a\n",
        "    * perimeter = n * s\n",
        "3. **Objective 1**:\n",
        "\n",
        "     Create a Polygon Class:\n",
        "     \n",
        "     1. Where initializer takes in:\n",
        "        * number of edges/vertices\n",
        "        * circumradius\n",
        "      2. That can provide these properties:\n",
        "          * edges\n",
        "          * vertices\n",
        "          * interior angle\n",
        "          * edge length\n",
        "          * apothem\n",
        "          * area\n",
        "          * perimeter\n",
        "      3. That has these functionalities:\n",
        "          * a proper __repr__ function\n",
        "          * implements equality (==) based on # vertices and circumradius (__eq__)\n",
        "          * implements > based on number of vertices only (__gt__) "
      ]
    },
    {
      "cell_type": "code",
      "metadata": {
        "id": "2KGOCWTxRgab"
      },
      "source": [
        "import math\n",
        "from functools import wraps"
      ],
      "execution_count": 1,
      "outputs": []
    },
    {
      "cell_type": "code",
      "metadata": {
        "id": "bmuKSDCiTw3K"
      },
      "source": [
        "def validate_params(poly_class):\n",
        "    \"\"\" This function validates the parameters passed to Polygon Class \"\"\"\n",
        "\n",
        "    @wraps(poly_class)\n",
        "    def inner(n_edges, circumradius):\n",
        "        \"\"\" This Decorator checks if the circumradius <= 0 or n_edges<3  \"\"\"\n",
        "        if isinstance(n_edges, int) == False:\n",
        "          raise TypeError('For a Ploygon, no of Vertices has to be a number')\n",
        "        if isinstance(circumradius, (int, float)) == False:\n",
        "          raise TypeError('For a Ploygon, circumradius has to be a float/number')\n",
        "        if circumradius <= 0 or n_edges <3 :\n",
        "            raise IndexError('Minimum 3 vertices Polygon is possible')\n",
        "        else:\n",
        "            return poly_class(n_edges, circumradius)\n",
        "    return inner"
      ],
      "execution_count": 2,
      "outputs": []
    },
    {
      "cell_type": "code",
      "metadata": {
        "id": "jpNZI_XkVjnH"
      },
      "source": [
        "@validate_params\n",
        "class Polygon:\n",
        "    \"\"\"\n",
        "    Polygon class to create polygons which are regular strictly convex.\\n\\\n",
        "    Regular strict polygons have two properties: \\n 1- All interior angles are less than 180. \\\n",
        "    \\n 2- All sides have equal length\n",
        "    \"\"\"\n",
        "\n",
        "    def __init__(self, n_edges: int, circumradius: float):\n",
        "        \"\"\" Initialize the edges, circumradius, interiorAngle, edgeLength , apothem, area, perimeter. \"\"\"\n",
        "        self._n_edges = n_edges\n",
        "        self._circumradius = circumradius\n",
        "    \n",
        "    @property\n",
        "    def n_edges(self):\n",
        "        \"\"\"Number of edges in the polygon\"\"\"\n",
        "        return self._n_edges\n",
        "\n",
        "    @n_edges.setter\n",
        "    def n_edges(self, value):\n",
        "        \"\"\"Number of edges setter\"\"\"\n",
        "        self._n_edges = value\n",
        "\n",
        "    @property\n",
        "    def circumradius(self):\n",
        "        \"\"\"Circumradius of the polygon\"\"\"\n",
        "        return self._circumradius\n",
        "\n",
        "    @circumradius.setter\n",
        "    def circumradius(self, value):\n",
        "        self._circumradius = value\n",
        "\n",
        "    @property\n",
        "    def edge_length(self):\n",
        "        \"\"\"Edge length of individual edge in the polygon\"\"\"\n",
        "        return (2 * self._circumradius * math.sin(math.pi/self._n_edges))\n",
        "\n",
        "    @property\n",
        "    def interior_angle(self):\n",
        "        \"\"\"Interior angle value of each angle in the polygon\"\"\"\n",
        "        return (self._n_edges - 2) * (180/self._n_edges)\n",
        "\n",
        "    @property\n",
        "    def apothem(self):\n",
        "        \"\"\"Apothem length for the polygon\"\"\"\n",
        "        return (self._circumradius * math.cos(math.pi/self._n_edges))\n",
        "\n",
        "    @property\n",
        "    def area(self):\n",
        "        \"\"\"Area of the polygon\"\"\"\n",
        "        return (self._n_edges * self.edge_length * self.apothem * 0.5)\n",
        "\n",
        "    @property\n",
        "    def perimeter(self):\n",
        "        \"\"\"Perimeter of the polygon\"\"\"\n",
        "        return (self._n_edges * self.edge_length)\n",
        "\n",
        "    def __repr__(self):\n",
        "        return f\"Polygon(n_edges: {self.n_edges}, circumradius: {self.circumradius})\"\n",
        "\n",
        "    def __gt__(self, poly):\n",
        "        \"\"\"Provide ability to compare two objects for greater than '>' test.\"\"\"\n",
        "        if (self.n_edges > poly.n_edges): # If number of edges is greater then return True\n",
        "            return True\n",
        "        else:\n",
        "            return False\n",
        "\n",
        "\n",
        "    def __eq__(self, poly):\n",
        "        \"\"\"Provides ability to compare two objects for euality (==).\"\"\"\n",
        "        if (self.n_edges == poly.n_edges) and (self.circumradius == poly.circumradius): # if both number of edges and circumradius is equal then return True\n",
        "            return True\n",
        "        else:\n",
        "            return False"
      ],
      "execution_count": 60,
      "outputs": []
    },
    {
      "cell_type": "code",
      "metadata": {
        "colab": {
          "base_uri": "https://localhost:8080/"
        },
        "id": "Tz2_a7FwaUyy",
        "outputId": "7e7d5f64-41c6-4915-bd21-6bbc0b110a86"
      },
      "source": [
        "help(Polygon)"
      ],
      "execution_count": 61,
      "outputs": [
        {
          "output_type": "stream",
          "text": [
            "Help on class Polygon in module __main__:\n",
            "\n",
            "class Polygon(builtins.object)\n",
            " |  Polygon(n_edges: int, circumradius: float)\n",
            " |  \n",
            " |     Polygon class to create polygons which are regular strictly convex.\n",
            " |     Regular strict polygons have two properties: \n",
            " |  1- All interior angles are less than 180.     \n",
            " |  2- All sides have equal length\n",
            " |  \n",
            " |  Methods defined here:\n",
            " |  \n",
            " |  __eq__(self, poly)\n",
            " |      Provides ability to compare two objects for euality (==).\n",
            " |  \n",
            " |  __gt__(self, poly)\n",
            " |      Provide ability to compare two objects for greater than '>' test.\n",
            " |  \n",
            " |  __init__(self, n_edges: int, circumradius: float)\n",
            " |      Initialize the edges, circumradius, interiorAngle, edgeLength , apothem, area, perimeter.\n",
            " |  \n",
            " |  __repr__(self)\n",
            " |      Return repr(self).\n",
            " |  \n",
            " |  ----------------------------------------------------------------------\n",
            " |  Data descriptors defined here:\n",
            " |  \n",
            " |  __dict__\n",
            " |      dictionary for instance variables (if defined)\n",
            " |  \n",
            " |  __weakref__\n",
            " |      list of weak references to the object (if defined)\n",
            " |  \n",
            " |  apothem\n",
            " |      Apothem length for the polygon\n",
            " |  \n",
            " |  area\n",
            " |      Area of the polygon\n",
            " |  \n",
            " |  circumradius\n",
            " |      Circumradius of the polygon\n",
            " |  \n",
            " |  edge_length\n",
            " |      Edge length of individual edge in the polygon\n",
            " |  \n",
            " |  interior_angle\n",
            " |      Interior angle value of each angle in the polygon\n",
            " |  \n",
            " |  n_edges\n",
            " |      Number of edges in the polygon\n",
            " |  \n",
            " |  perimeter\n",
            " |      Perimeter of the polygon\n",
            " |  \n",
            " |  ----------------------------------------------------------------------\n",
            " |  Data and other attributes defined here:\n",
            " |  \n",
            " |  __hash__ = None\n",
            "\n"
          ],
          "name": "stdout"
        }
      ]
    },
    {
      "cell_type": "code",
      "metadata": {
        "id": "Ct6yeXtzc7p5"
      },
      "source": [
        "poly1 = Polygon(40, 14)\n",
        "poly2 = Polygon(50, 30)\n",
        "poly3 = Polygon(40, 60)"
      ],
      "execution_count": 24,
      "outputs": []
    },
    {
      "cell_type": "code",
      "metadata": {
        "colab": {
          "base_uri": "https://localhost:8080/"
        },
        "id": "KCA9F3pedFFw",
        "outputId": "13600fec-3eb3-4928-8893-fe6538a4dba0"
      },
      "source": [
        "poly1.n_edges"
      ],
      "execution_count": 25,
      "outputs": [
        {
          "output_type": "execute_result",
          "data": {
            "text/plain": [
              "40"
            ]
          },
          "metadata": {
            "tags": []
          },
          "execution_count": 25
        }
      ]
    },
    {
      "cell_type": "code",
      "metadata": {
        "colab": {
          "base_uri": "https://localhost:8080/"
        },
        "id": "8_wMtDOVgls7",
        "outputId": "26f71f53-8da4-45e8-d477-2a619e95a1e7"
      },
      "source": [
        "poly1.edge_length"
      ],
      "execution_count": 11,
      "outputs": [
        {
          "output_type": "execute_result",
          "data": {
            "text/plain": [
              "2.1968546803796585"
            ]
          },
          "metadata": {
            "tags": []
          },
          "execution_count": 11
        }
      ]
    },
    {
      "cell_type": "code",
      "metadata": {
        "colab": {
          "base_uri": "https://localhost:8080/"
        },
        "id": "E9m-Y3mlgvip",
        "outputId": "8415c59e-f3ad-49b3-8b4b-c06e76f7b167"
      },
      "source": [
        "poly1.apothem"
      ],
      "execution_count": 12,
      "outputs": [
        {
          "output_type": "execute_result",
          "data": {
            "text/plain": [
              "13.956842672263791"
            ]
          },
          "metadata": {
            "tags": []
          },
          "execution_count": 12
        }
      ]
    },
    {
      "cell_type": "code",
      "metadata": {
        "colab": {
          "base_uri": "https://localhost:8080/"
        },
        "id": "ujs3Otsvg2GV",
        "outputId": "99b621f3-41c1-49ad-99c0-ad74355d858e"
      },
      "source": [
        "poly1.area"
      ],
      "execution_count": 13,
      "outputs": [
        {
          "output_type": "execute_result",
          "data": {
            "text/plain": [
              "613.223102957705"
            ]
          },
          "metadata": {
            "tags": []
          },
          "execution_count": 13
        }
      ]
    },
    {
      "cell_type": "code",
      "metadata": {
        "colab": {
          "base_uri": "https://localhost:8080/"
        },
        "id": "wQs96Ping69l",
        "outputId": "8a805223-8999-47b3-decc-ce2e17bbb7c5"
      },
      "source": [
        "poly1.perimeter"
      ],
      "execution_count": 14,
      "outputs": [
        {
          "output_type": "execute_result",
          "data": {
            "text/plain": [
              "87.87418721518634"
            ]
          },
          "metadata": {
            "tags": []
          },
          "execution_count": 14
        }
      ]
    },
    {
      "cell_type": "code",
      "metadata": {
        "colab": {
          "base_uri": "https://localhost:8080/"
        },
        "id": "Oe_2Coq-g-gg",
        "outputId": "4fe2f014-1bec-4b26-d23b-19fd1ac8e50a"
      },
      "source": [
        "Polygon(n_edges=4, circumradius=4)"
      ],
      "execution_count": 15,
      "outputs": [
        {
          "output_type": "execute_result",
          "data": {
            "text/plain": [
              "Polygon(n_edges: 4, circumradius: 4)"
            ]
          },
          "metadata": {
            "tags": []
          },
          "execution_count": 15
        }
      ]
    },
    {
      "cell_type": "code",
      "metadata": {
        "colab": {
          "base_uri": "https://localhost:8080/"
        },
        "id": "KRc4bAy8hDSZ",
        "outputId": "ae07e4f8-abe0-43ea-c0ad-391feae47b84"
      },
      "source": [
        "poly1 == poly2"
      ],
      "execution_count": 16,
      "outputs": [
        {
          "output_type": "execute_result",
          "data": {
            "text/plain": [
              "False"
            ]
          },
          "metadata": {
            "tags": []
          },
          "execution_count": 16
        }
      ]
    },
    {
      "cell_type": "code",
      "metadata": {
        "colab": {
          "base_uri": "https://localhost:8080/"
        },
        "id": "5cXfsi8HhItX",
        "outputId": "e5128743-3bb2-4365-e5f0-488b1a32b14d"
      },
      "source": [
        "poly1 == Polygon(n_edges=40, circumradius=14)"
      ],
      "execution_count": 18,
      "outputs": [
        {
          "output_type": "execute_result",
          "data": {
            "text/plain": [
              "True"
            ]
          },
          "metadata": {
            "tags": []
          },
          "execution_count": 18
        }
      ]
    },
    {
      "cell_type": "markdown",
      "metadata": {
        "id": "HkzoHEHNhc5P"
      },
      "source": [
        "Greater than"
      ]
    },
    {
      "cell_type": "code",
      "metadata": {
        "colab": {
          "base_uri": "https://localhost:8080/"
        },
        "id": "63Cjw_AFhPkC",
        "outputId": "429a0927-d598-42aa-d9eb-72785eaab59c"
      },
      "source": [
        "poly1 > poly2"
      ],
      "execution_count": 19,
      "outputs": [
        {
          "output_type": "execute_result",
          "data": {
            "text/plain": [
              "False"
            ]
          },
          "metadata": {
            "tags": []
          },
          "execution_count": 19
        }
      ]
    },
    {
      "cell_type": "code",
      "metadata": {
        "colab": {
          "base_uri": "https://localhost:8080/"
        },
        "id": "zYMMDHB4hf-8",
        "outputId": "b1dbd5b6-c14b-4143-ec98-c7c6cbee4227"
      },
      "source": [
        "poly2 > poly1"
      ],
      "execution_count": 20,
      "outputs": [
        {
          "output_type": "execute_result",
          "data": {
            "text/plain": [
              "True"
            ]
          },
          "metadata": {
            "tags": []
          },
          "execution_count": 20
        }
      ]
    },
    {
      "cell_type": "code",
      "metadata": {
        "colab": {
          "base_uri": "https://localhost:8080/"
        },
        "id": "xrAmu6Qshk_j",
        "outputId": "d7f56618-0ca5-4374-b50b-a0d58d04f2a7"
      },
      "source": [
        "poly1 > poly3"
      ],
      "execution_count": 21,
      "outputs": [
        {
          "output_type": "execute_result",
          "data": {
            "text/plain": [
              "False"
            ]
          },
          "metadata": {
            "tags": []
          },
          "execution_count": 21
        }
      ]
    },
    {
      "cell_type": "code",
      "metadata": {
        "colab": {
          "base_uri": "https://localhost:8080/",
          "height": 287
        },
        "id": "zJ7ZE6FtjY1i",
        "outputId": "d4b18a6b-f929-41d3-f3ad-98b727742687"
      },
      "source": [
        "p = Polygon(\"abc\",0)"
      ],
      "execution_count": 27,
      "outputs": [
        {
          "output_type": "error",
          "ename": "TypeError",
          "evalue": "ignored",
          "traceback": [
            "\u001b[0;31m---------------------------------------------------------------------------\u001b[0m",
            "\u001b[0;31mTypeError\u001b[0m                                 Traceback (most recent call last)",
            "\u001b[0;32m<ipython-input-27-192242a3900f>\u001b[0m in \u001b[0;36m<module>\u001b[0;34m()\u001b[0m\n\u001b[0;32m----> 1\u001b[0;31m \u001b[0mp\u001b[0m \u001b[0;34m=\u001b[0m \u001b[0mPolygon\u001b[0m\u001b[0;34m(\u001b[0m\u001b[0;34m\"abc\"\u001b[0m\u001b[0;34m,\u001b[0m\u001b[0;36m0\u001b[0m\u001b[0;34m)\u001b[0m\u001b[0;34m\u001b[0m\u001b[0;34m\u001b[0m\u001b[0m\n\u001b[0m",
            "\u001b[0;32m<ipython-input-2-f2237fa8121a>\u001b[0m in \u001b[0;36minner\u001b[0;34m(n_edges, circumradius)\u001b[0m\n\u001b[1;32m      6\u001b[0m         \u001b[0;34m\"\"\" This Decorator checks if the circumradius <= 0 or n_edges<3  \"\"\"\u001b[0m\u001b[0;34m\u001b[0m\u001b[0;34m\u001b[0m\u001b[0m\n\u001b[1;32m      7\u001b[0m         \u001b[0;32mif\u001b[0m \u001b[0misinstance\u001b[0m\u001b[0;34m(\u001b[0m\u001b[0mn_edges\u001b[0m\u001b[0;34m,\u001b[0m \u001b[0mint\u001b[0m\u001b[0;34m)\u001b[0m \u001b[0;34m==\u001b[0m \u001b[0;32mFalse\u001b[0m\u001b[0;34m:\u001b[0m\u001b[0;34m\u001b[0m\u001b[0;34m\u001b[0m\u001b[0m\n\u001b[0;32m----> 8\u001b[0;31m           \u001b[0;32mraise\u001b[0m \u001b[0mTypeError\u001b[0m\u001b[0;34m(\u001b[0m\u001b[0;34m'For a Ploygon, no of Vertices has to be a number'\u001b[0m\u001b[0;34m)\u001b[0m\u001b[0;34m\u001b[0m\u001b[0;34m\u001b[0m\u001b[0m\n\u001b[0m\u001b[1;32m      9\u001b[0m         \u001b[0;32mif\u001b[0m \u001b[0misinstance\u001b[0m\u001b[0;34m(\u001b[0m\u001b[0mcircumradius\u001b[0m\u001b[0;34m,\u001b[0m \u001b[0;34m(\u001b[0m\u001b[0mint\u001b[0m\u001b[0;34m,\u001b[0m \u001b[0mfloat\u001b[0m\u001b[0;34m)\u001b[0m\u001b[0;34m)\u001b[0m \u001b[0;34m==\u001b[0m \u001b[0;32mFalse\u001b[0m\u001b[0;34m:\u001b[0m\u001b[0;34m\u001b[0m\u001b[0;34m\u001b[0m\u001b[0m\n\u001b[1;32m     10\u001b[0m           \u001b[0;32mraise\u001b[0m \u001b[0mTypeError\u001b[0m\u001b[0;34m(\u001b[0m\u001b[0;34m'For a Ploygon, circumradius has to be a float/number'\u001b[0m\u001b[0;34m)\u001b[0m\u001b[0;34m\u001b[0m\u001b[0;34m\u001b[0m\u001b[0m\n",
            "\u001b[0;31mTypeError\u001b[0m: For a Ploygon, no of Vertices has to be a number"
          ]
        }
      ]
    },
    {
      "cell_type": "markdown",
      "metadata": {
        "id": "hok26_IKhqie"
      },
      "source": [
        "4. **Objective 2**:\n",
        "    Implement a Custom Polygon sequence type:\n",
        "    \n",
        "    1. Where initializer takes in:\n",
        "        * number of vertices for largest polygon in the sequence\n",
        "        * common circumradius for all polygons\n",
        "        * that can provide these properties:\n",
        "        * max efficiency polygon: returns the Polygon with the highest area: perimeter ratio\n",
        "     2. that has these functionalities:\n",
        "        * functions as a sequence type (__getitem__)\n",
        "        * supports the len() function (__len__)\n",
        "        * has a proper representation (__repr__)\n"
      ]
    },
    {
      "cell_type": "code",
      "metadata": {
        "id": "hc5otqj1h9f8"
      },
      "source": [
        "from functools import lru_cache\n",
        "from collections import namedtuple\n",
        "\n",
        "@validate_params\n",
        "class Poly_sequence:\n",
        "    \"\"\"\n",
        "    Custom polygon sequence containing polygons where maximum number of edges in a polygon is given\n",
        "    by n_edges_max  and circumradius for all polygons is is given by circumradius and is same for all polygons\"\n",
        "    \"\"\"\n",
        "    def __init__(self, n_edges: int, circumradius: float):\n",
        "        self._n_edges = n_edges\n",
        "        self._circumradius = circumradius\n",
        "\n",
        "    @lru_cache(maxsize=2**10)\n",
        "    def get_polygon(self, n_edges, circumradius):\n",
        "        \"\"\" This function returns the properties of the polygon such as vertex , circumradius, interior angle, edge\n",
        "        length , apothem, area, perimeter as a named tuple.\n",
        "        \"\"\"\n",
        "        polygon = Polygon(n_edges, circumradius)\n",
        "        interiorangle = polygon.interior_angle\n",
        "        edgelength = polygon.edge_length\n",
        "        apothem = polygon.apothem\n",
        "        area = polygon.area\n",
        "        perimeter = polygon.perimeter\n",
        "\n",
        "        prop_names = ('vertex', 'circumradius', 'interiorAngle', 'edgeLength', 'apothem', 'area', 'perimeter')\n",
        "        properties = namedtuple('Polygon', prop_names)\n",
        "\n",
        "        # print(f'Calculating for Polygon with Vertex:{n_edges} , CircumRadius: {circumradius}')\n",
        "        return properties(n_edges, circumradius, interiorangle, edgelength, apothem, area, perimeter)\n",
        "\n",
        "    def max_efficiency(self):\n",
        "        \"\"\" This function returns the maximum efficiency polygon.\n",
        "        Here, a maximum efficiency polygon is one that has the highest area to perimeter ratio.\n",
        "        \"\"\"\n",
        "\n",
        "        ratios = []\n",
        "\n",
        "        for i in range(3, self._n_edges+1):\n",
        "            \"\"\" This function \"\"\"\n",
        "            p = self.get_polygon(i, self._circumradius)\n",
        "            ratios.append(p.area/p.perimeter)\n",
        "            # print(ratios)\n",
        "        max_index = max(range(len(ratios)), key=ratios.__getitem__)\n",
        "        # print(ratios)\n",
        "        print(f'Polygon with {max_index+3} vertices has the Max Efficiency of {ratios[max_index]}')\n",
        "\n",
        "    def __getitem__(self, edges):\n",
        "        \"\"\" This function returns the properties of the polygon whose vertices, circumradius are as passed in the\n",
        "        arguments. It returns 'Not a polygon' message if the number of vertices is less than 3.\n",
        "        \"\"\"\n",
        "\n",
        "        if not isinstance(edges, int):\n",
        "            return 'Error: Incorrect type for parameter '\n",
        "        elif edges < 3:\n",
        "            return 'Error: This is not a polygon'\n",
        "        else:\n",
        "            return self.get_polygon(edges, self._circumradius)\n",
        "\n",
        "    def __repr__(self):\n",
        "        \"\"\" This function gives the details of the Polygon Sequence object\"\"\"\n",
        "\n",
        "        return f\"\"\" Contains {self._n_edges} polygons with a circumradius of {self._circumradius} \\\n",
        "         and vertices ranging from 3 to {self._n_edges}\"\"\"\n",
        "\n",
        "    def __len__(self):\n",
        "        \"\"\" This function gives the length of the Polygon Sequence object \"\"\"\n",
        "\n",
        "        return self._n_edges\n"
      ],
      "execution_count": 62,
      "outputs": []
    },
    {
      "cell_type": "code",
      "metadata": {
        "colab": {
          "base_uri": "https://localhost:8080/"
        },
        "id": "i56zPx4YzZkQ",
        "outputId": "ce606b55-f198-4ed5-a7e0-434350561729"
      },
      "source": [
        "help(Poly_sequence)"
      ],
      "execution_count": 63,
      "outputs": [
        {
          "output_type": "stream",
          "text": [
            "Help on class Poly_sequence in module __main__:\n",
            "\n",
            "class Poly_sequence(builtins.object)\n",
            " |  Poly_sequence(n_edges: int, circumradius: float)\n",
            " |  \n",
            " |  Custom polygon sequence containing polygons where maximum number of edges in a polygon is given\n",
            " |  by n_edges_max  and circumradius for all polygons is is given by circumradius and is same for all polygons\"\n",
            " |  \n",
            " |  Methods defined here:\n",
            " |  \n",
            " |  __getitem__(self, edges)\n",
            " |      This function returns the properties of the polygon whose vertices, circumradius are as passed in the\n",
            " |      arguments. It returns 'Not a polygon' message if the number of vertices is less than 3.\n",
            " |  \n",
            " |  __init__(self, n_edges: int, circumradius: float)\n",
            " |      Initialize self.  See help(type(self)) for accurate signature.\n",
            " |  \n",
            " |  __len__(self)\n",
            " |      This function gives the length of the Polygon Sequence object\n",
            " |  \n",
            " |  __repr__(self)\n",
            " |      This function gives the details of the Polygon Sequence object\n",
            " |  \n",
            " |  get_polygon(self, n_edges, circumradius)\n",
            " |      This function returns the properties of the polygon such as vertex , circumradius, interior angle, edge\n",
            " |      length , apothem, area, perimeter as a named tuple.\n",
            " |  \n",
            " |  max_efficiency(self)\n",
            " |      This function returns the maximum efficiency polygon.\n",
            " |      Here, a maximum efficiency polygon is one that has the highest area to perimeter ratio.\n",
            " |  \n",
            " |  ----------------------------------------------------------------------\n",
            " |  Data descriptors defined here:\n",
            " |  \n",
            " |  __dict__\n",
            " |      dictionary for instance variables (if defined)\n",
            " |  \n",
            " |  __weakref__\n",
            " |      list of weak references to the object (if defined)\n",
            "\n"
          ],
          "name": "stdout"
        }
      ]
    },
    {
      "cell_type": "code",
      "metadata": {
        "colab": {
          "base_uri": "https://localhost:8080/"
        },
        "id": "cPZe6aXMvrCh",
        "outputId": "0c2f2073-0d2f-4a26-b6b3-a4a2311e8f69"
      },
      "source": [
        "a = Poly_sequence(5,3)\n",
        "a"
      ],
      "execution_count": 49,
      "outputs": [
        {
          "output_type": "execute_result",
          "data": {
            "text/plain": [
              " Contains 5 polygons with a circumradius of 3          and vertices ranging from 3 to 5"
            ]
          },
          "metadata": {
            "tags": []
          },
          "execution_count": 49
        }
      ]
    },
    {
      "cell_type": "code",
      "metadata": {
        "colab": {
          "base_uri": "https://localhost:8080/"
        },
        "id": "-GoEjZBwwD2i",
        "outputId": "a2a5d57a-da4c-4b3e-dbc7-73728972efb9"
      },
      "source": [
        "len(a)"
      ],
      "execution_count": 50,
      "outputs": [
        {
          "output_type": "execute_result",
          "data": {
            "text/plain": [
              "5"
            ]
          },
          "metadata": {
            "tags": []
          },
          "execution_count": 50
        }
      ]
    },
    {
      "cell_type": "code",
      "metadata": {
        "colab": {
          "base_uri": "https://localhost:8080/"
        },
        "id": "duRvGFFvwKqI",
        "outputId": "845553db-c6e0-47e6-85d6-29511073f8d5"
      },
      "source": [
        "print(a[3])\n",
        "print(a[4])\n",
        "print(a[5])"
      ],
      "execution_count": 51,
      "outputs": [
        {
          "output_type": "stream",
          "text": [
            "Polygon(vertex=3, circumradius=3, interiorAngle=60.0, edgeLength=5.196152422706632, apothem=1.5000000000000004, area=11.691342951089926, perimeter=15.588457268119896)\n",
            "Polygon(vertex=4, circumradius=3, interiorAngle=90.0, edgeLength=4.242640687119285, apothem=2.121320343559643, area=18.0, perimeter=16.97056274847714)\n",
            "Polygon(vertex=5, circumradius=3, interiorAngle=108.0, edgeLength=3.526711513754839, apothem=2.4270509831248424, area=21.398771616640957, perimeter=17.633557568774194)\n"
          ],
          "name": "stdout"
        }
      ]
    },
    {
      "cell_type": "code",
      "metadata": {
        "colab": {
          "base_uri": "https://localhost:8080/"
        },
        "id": "buFEJX7ExN_N",
        "outputId": "b24325d8-99d8-4bf5-ec71-b2a529994661"
      },
      "source": [
        "a.max_efficiency()"
      ],
      "execution_count": 52,
      "outputs": [
        {
          "output_type": "stream",
          "text": [
            "Polygon with 5 vertices has the Max Efficiency of 1.2135254915624212\n"
          ],
          "name": "stdout"
        }
      ]
    },
    {
      "cell_type": "code",
      "metadata": {
        "id": "ACAdDvftxV1g"
      },
      "source": [
        "p = Poly_sequence(25,5)"
      ],
      "execution_count": 55,
      "outputs": []
    },
    {
      "cell_type": "code",
      "metadata": {
        "colab": {
          "base_uri": "https://localhost:8080/"
        },
        "id": "NShcNbz8xcCP",
        "outputId": "92b4f2c3-e6b1-40a5-8de1-953d05f24db5"
      },
      "source": [
        "p.max_efficiency()"
      ],
      "execution_count": 56,
      "outputs": [
        {
          "output_type": "stream",
          "text": [
            "Polygon with 25 vertices has the Max Efficiency of 2.4802867532861947\n"
          ],
          "name": "stdout"
        }
      ]
    },
    {
      "cell_type": "code",
      "metadata": {
        "colab": {
          "base_uri": "https://localhost:8080/"
        },
        "id": "iR7NWALlxmTZ",
        "outputId": "ff0d0731-a1bc-441a-be9a-6b257278640a"
      },
      "source": [
        "help(Poly_sequence)"
      ],
      "execution_count": 57,
      "outputs": [
        {
          "output_type": "stream",
          "text": [
            "Help on function Poly_sequence in module __main__:\n",
            "\n",
            "Poly_sequence(n_edges: int, circumradius: float)\n",
            "    Custom polygon sequence containing polygons where maximum number of edges in a polygon is given\n",
            "    by n_edges_max  and circumradius for all polygons is is given by circumradius and is same for all polygons\"\n",
            "\n"
          ],
          "name": "stdout"
        }
      ]
    },
    {
      "cell_type": "code",
      "metadata": {
        "colab": {
          "base_uri": "https://localhost:8080/"
        },
        "id": "2SuqbKPexs3U",
        "outputId": "1e55c35f-5b4f-4823-9023-e786980dbf97"
      },
      "source": [
        "type(a)"
      ],
      "execution_count": 58,
      "outputs": [
        {
          "output_type": "execute_result",
          "data": {
            "text/plain": [
              "__main__.Poly_sequence"
            ]
          },
          "metadata": {
            "tags": []
          },
          "execution_count": 58
        }
      ]
    },
    {
      "cell_type": "code",
      "metadata": {
        "colab": {
          "base_uri": "https://localhost:8080/",
          "height": 35
        },
        "id": "9bvVPlHNx2Sd",
        "outputId": "11106f90-32e0-4441-c90e-553bc0c5bfa2"
      },
      "source": [
        "a[2]"
      ],
      "execution_count": 59,
      "outputs": [
        {
          "output_type": "execute_result",
          "data": {
            "application/vnd.google.colaboratory.intrinsic+json": {
              "type": "string"
            },
            "text/plain": [
              "'Error: This is not a polygon'"
            ]
          },
          "metadata": {
            "tags": []
          },
          "execution_count": 59
        }
      ]
    },
    {
      "cell_type": "code",
      "metadata": {
        "id": "J-jIl6Sdx80j"
      },
      "source": [
        ""
      ],
      "execution_count": null,
      "outputs": []
    }
  ]
}